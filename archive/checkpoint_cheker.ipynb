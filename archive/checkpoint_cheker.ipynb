{
 "cells": [
  {
   "cell_type": "code",
   "execution_count": null,
   "metadata": {},
   "outputs": [],
   "source": [
    "import torch\n",
    "\n",
    "checkpoint = torch.load(\"/u/pmaldonadocatala/hyena-dna/weights/weights.ckpt\")\n",
    "print(checkpoint.keys())  # Print top-level keys in the checkpoint\n",
    "print(checkpoint['state_dict'].keys())  # Print the keys in the state_dict"
   ]
  }
 ],
 "metadata": {
  "language_info": {
   "name": "python"
  }
 },
 "nbformat": 4,
 "nbformat_minor": 2
}
